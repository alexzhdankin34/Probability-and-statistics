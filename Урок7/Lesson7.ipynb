{
 "cells": [
  {
   "cell_type": "code",
   "execution_count": 9,
   "metadata": {},
   "outputs": [],
   "source": [
    "import numpy as np\n",
    "from math import sqrt\n",
    "import scipy\n",
    "import matplotlib.pyplot as plt"
   ]
  },
  {
   "cell_type": "markdown",
   "metadata": {
    "colab_type": "text",
    "id": "4H6xxKNJyZlv"
   },
   "source": [
    "### Задача №1"
   ]
  },
  {
   "cell_type": "markdown",
   "metadata": {
    "colab_type": "text",
    "id": "JRDZZ12YyZnR"
   },
   "source": [
    "1.\tДаны значения величины заработной платы заемщиков банка (zp) и значения их поведенческого кредитного скоринга (ks): zp = [35, 45, 190, 200, 40, 70, 54, 150, 120, 110], ks = [401, 574, 874, 919, 459, 739, 653, 902, 746, 832]. Используя математические операции, посчитать коэффициенты линейной регрессии, приняв за X заработную плату (то есть, zp - признак), а за y - значения скорингового балла (то есть, ks - целевая переменная). Произвести расчет как с использованием intercept, так и без."
   ]
  },
  {
   "cell_type": "code",
   "execution_count": 53,
   "metadata": {},
   "outputs": [],
   "source": [
    "zp = np.array([35, 45, 190, 200, 40, 70, 54, 150, 120, 110])"
   ]
  },
  {
   "cell_type": "code",
   "execution_count": 54,
   "metadata": {
    "colab_type": "text",
    "id": "jdj-cZnoyZnT"
   },
   "outputs": [],
   "source": [
    "ks = np.array([401, 574, 874, 919, 459, 739, 653, 902, 746, 832])"
   ]
  },
  {
   "cell_type": "code",
   "execution_count": 4,
   "metadata": {},
   "outputs": [
    {
     "data": {
      "text/plain": [
       "2.620538882402765"
      ]
     },
     "execution_count": 4,
     "metadata": {},
     "output_type": "execute_result"
    }
   ],
   "source": [
    "b=(np.mean(zp*ks)-np.mean(zp)*np.mean(ks))/(np.mean(zp**2)-np.mean(zp)**2)\n",
    "b"
   ]
  },
  {
   "cell_type": "code",
   "execution_count": 6,
   "metadata": {},
   "outputs": [
    {
     "data": {
      "text/plain": [
       "444.1773573243596"
      ]
     },
     "execution_count": 6,
     "metadata": {},
     "output_type": "execute_result"
    }
   ],
   "source": [
    "a=np.mean(ks)-b*np.mean(zp)\n",
    "a"
   ]
  },
  {
   "cell_type": "code",
   "execution_count": 7,
   "metadata": {},
   "outputs": [
    {
     "data": {
      "text/plain": [
       "array([535.89621821, 562.10160703, 942.07974498, 968.2851338 ,\n",
       "       548.99891262, 627.61507909, 585.68645697, 837.25818968,\n",
       "       758.64202321, 732.43663439])"
      ]
     },
     "execution_count": 7,
     "metadata": {},
     "output_type": "execute_result"
    }
   ],
   "source": [
    "ks_hat = a+b*zp\n",
    "ks_hat"
   ]
  },
  {
   "cell_type": "code",
   "execution_count": 10,
   "metadata": {},
   "outputs": [],
   "source": [
    "%matplotlib inline"
   ]
  },
  {
   "cell_type": "code",
   "execution_count": 13,
   "metadata": {},
   "outputs": [
    {
     "data": {
      "image/png": "[encoded data removed]",
      "text/plain": [
       "<Figure size 432x288 with 1 Axes>"
      ]
     },
     "metadata": {
      "needs_background": "light"
     },
     "output_type": "display_data"
    }
   ],
   "source": [
    "plt.scatter (zp, ks)\n",
    "plt.plot(zp,ks_hat)\n",
    "plt.show()"
   ]
  },
  {
   "cell_type": "code",
   "execution_count": 15,
   "metadata": {},
   "outputs": [
    {
     "data": {
      "text/plain": [
       "6470.414201176658"
      ]
     },
     "execution_count": 15,
     "metadata": {},
     "output_type": "execute_result"
    }
   ],
   "source": [
    "mse = ((ks-ks_hat)**2).sum()/10\n",
    "mse"
   ]
  },
  {
   "cell_type": "markdown",
   "metadata": {},
   "source": [
    "### Задача №2"
   ]
  },
  {
   "cell_type": "markdown",
   "metadata": {
    "colab_type": "text",
    "id": "9k46VofoyZnV"
   },
   "source": [
    "2.\tПосчитать коэффициент линейной регрессии при заработной плате (zp), используя градиентный спуск (без intercept).\n"
   ]
  },
  {
   "cell_type": "code",
   "execution_count": 128,
   "metadata": {},
   "outputs": [],
   "source": [
    "def mse_(B1,ks=ks, zp=zp, n=10):\n",
    "    return np.sum ((B1*zp-ks)**2)/n"
   ]
  },
  {
   "cell_type": "code",
   "execution_count": 129,
   "metadata": {},
   "outputs": [
    {
     "data": {
      "text/plain": [
       "1e-06"
      ]
     },
     "execution_count": 129,
     "metadata": {},
     "output_type": "execute_result"
    }
   ],
   "source": [
    "alpha = 1e-6\n",
    "alpha"
   ]
  },
  {
   "cell_type": "code",
   "execution_count": 130,
   "metadata": {},
   "outputs": [],
   "source": [
    "B1=0.1\n",
    "n=10"
   ]
  },
  {
   "cell_type": "code",
   "execution_count": 131,
   "metadata": {},
   "outputs": [
    {
     "name": "stdout",
     "output_type": "stream",
     "text": [
      "Итерация:0, B1=0.25952808, mse=493237.7212546963\n",
      "Итерация:500, B1=5.889815595583751, mse=56516.858416040064\n",
      "Итерация:1000, B1=5.8898204201285544, mse=56516.85841571941\n",
      "Итерация:1500, B1=5.889820420132673, mse=56516.85841571943\n",
      "Итерация:2000, B1=5.889820420132673, mse=56516.85841571943\n",
      "Итерация:2500, B1=5.889820420132673, mse=56516.85841571943\n"
     ]
    }
   ],
   "source": [
    "for i in range (3000):\n",
    "    B1-=alpha*(2/n)*np.sum((B1*zp-ks)*zp)\n",
    "    if i%500==0:\n",
    "        print('Итерация:{i}, B1={B1}, mse={mse}'.format(i=i, B1=B1, mse=mse_(B1)))"
   ]
  },
  {
   "cell_type": "code",
   "execution_count": 132,
   "metadata": {},
   "outputs": [
    {
     "data": {
      "image/png": "[encoded data removed]",
      "text/plain": [
       "<Figure size 432x288 with 1 Axes>"
      ]
     },
     "metadata": {
      "needs_background": "light"
     },
     "output_type": "display_data"
    }
   ],
   "source": [
    "plt.scatter (zp, ks)\n",
    "plt.plot(zp,zp*B1)\n",
    "plt.show()"
   ]
  },
  {
   "cell_type": "markdown",
   "metadata": {},
   "source": [
    "### Задача №3"
   ]
  },
  {
   "cell_type": "markdown",
   "metadata": {
    "colab_type": "text",
    "id": "1TPeni0jyZnc"
   },
   "source": [
    "3.\tВ каких случаях для вычисления доверительных интервалов и проверки статистических гипотез используется таблица значений функции Лапласа, а в каких - таблица критических точек распределения Стьюдента? \n"
   ]
  },
  {
   "cell_type": "markdown",
   "metadata": {
    "colab_type": "text",
    "id": "97Xtvr-LyZnf"
   },
   "source": [
    "Лапласа - в случае, когда известна дисперсия генеральной совокупности, а Стьюдента - когда не известна дисперсия генеральной совокупности\n"
   ]
  },
  {
   "cell_type": "markdown",
   "metadata": {},
   "source": [
    "### Задача №4"
   ]
  },
  {
   "cell_type": "markdown",
   "metadata": {},
   "source": [
    "Произвести вычисления как в пункте 2, но с вычислением intercept. Учесть, что изменение коэффициентов должно производиться на каждом шаге одновременно (то есть изменение одного коэффициента не должно влиять на изменение другого во время одной итерации)."
   ]
  },
  {
   "cell_type": "code",
   "execution_count": 157,
   "metadata": {},
   "outputs": [],
   "source": [
    "def mse1_(B1,B0,ks=ks, zp=zp, n=10):\n",
    "    return np.sum ((B1*zp+B0-ks)**2)/n"
   ]
  },
  {
   "cell_type": "code",
   "execution_count": 158,
   "metadata": {},
   "outputs": [],
   "source": [
    "alpha = 1e-6\n",
    "alpha\n",
    "alpha1=1e-2"
   ]
  },
  {
   "cell_type": "code",
   "execution_count": 159,
   "metadata": {},
   "outputs": [],
   "source": [
    "B1=0.1\n",
    "B0=1\n",
    "n=10"
   ]
  },
  {
   "cell_type": "code",
   "execution_count": 160,
   "metadata": {},
   "outputs": [
    {
     "name": "stdout",
     "output_type": "stream",
     "text": [
      "Итерация:0, B1=0.25932528, B0=14.65208833216, mse=370.58412231275247\n",
      "Итерация:1000, B1=2.669620506219854, B0=438.2784803367208, mse=52988.565894413994\n",
      "Итерация:2000, B1=2.622570322979627, B0=443.9332085546435, mse=55721.32715523825\n",
      "Итерация:3000, B1=2.620622961748482, B0=444.16725224471844, mse=55839.45183984551\n",
      "Итерация:4000, B1=2.6205423623649446, B0=444.1769390849612, mse=55844.34950212938\n",
      "Итерация:5000, B1=2.620539026435007, B0=444.1773400138386, mse=55844.55222632494\n",
      "Итерация:6000, B1=2.6205388883641185, B0=444.1773566078942, mse=55844.56061690707\n",
      "Итерация:7000, B1=2.6205388826494995, B0=444.17735729470576, mse=55844.56096418503\n",
      "Итерация:8000, B1=2.6205388824129767, B0=444.17735732313236, mse=55844.56097855859\n",
      "Итерация:9000, B1=2.6205388824032045, B0=444.177357324307, mse=55844.56097915252\n"
     ]
    }
   ],
   "source": [
    "mse_array=[]\n",
    "for i in range (10000):\n",
    "    B1-=alpha*(2/n)*np.sum((B1*zp+B0-ks)*zp)\n",
    "    B0-=alpha1*(2/n)*np.sum(B1*zp+B0-ks)\n",
    "    mse_array.append(mse_(B1,B0))\n",
    "    if i%1000==0:\n",
    "        print('Итерация:{i}, B1={B1}, B0={B0}, mse={mse}'.format(i=i, B1=B1, B0=B0, mse=mse_(B1, B0)))\n",
    "    if len(mse_array)>2 and abs(mse_array[-1]-mse_array[-2]) < 1e-15:\n",
    "        break #прервем цикл, когда значение среднеквадратичной оценки между итерациями  будет изменяться меньше, чем на 1e-15\n",
    "        "
   ]
  },
  {
   "cell_type": "code",
   "execution_count": 143,
   "metadata": {},
   "outputs": [
    {
     "data": {
      "image/png": "[encoded data removed]",
      "text/plain": [
       "<Figure size 432x288 with 1 Axes>"
      ]
     },
     "metadata": {
      "needs_background": "light"
     },
     "output_type": "display_data"
    }
   ],
   "source": [
    "plt.scatter (zp, ks)\n",
    "plt.plot(zp,zp*B1+B0)\n",
    "plt.show()"
   ]
  },
  {
   "cell_type": "code",
   "execution_count": null,
   "metadata": {},
   "outputs": [],
   "source": []
  }
 ],
 "metadata": {
  "colab": {
   "collapsed_sections": [],
   "name": "Матстат - Урок 5.ipynb",
   "provenance": []
  },
  "kernelspec": {
   "display_name": "Python 3",
   "language": "python",
   "name": "python3"
  },
  "language_info": {
   "codemirror_mode": {
    "name": "ipython",
    "version": 3
   },
   "file_extension": ".py",
   "mimetype": "text/x-python",
   "name": "python",
   "nbconvert_exporter": "python",
   "pygments_lexer": "ipython3",
   "version": "3.7.4"
  }
 },
 "nbformat": 4,
 "nbformat_minor": 1
}
